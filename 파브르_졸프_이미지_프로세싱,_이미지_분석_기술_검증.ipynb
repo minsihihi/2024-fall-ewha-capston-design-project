{
  "nbformat": 4,
  "nbformat_minor": 0,
  "metadata": {
    "colab": {
      "provenance": [],
      "include_colab_link": true
    },
    "kernelspec": {
      "name": "python3",
      "display_name": "Python 3"
    },
    "language_info": {
      "name": "python"
    }
  },
  "cells": [
    {
      "cell_type": "markdown",
      "metadata": {
        "id": "view-in-github",
        "colab_type": "text"
      },
      "source": [
        "<a href=\"https://colab.research.google.com/github/minsihihi/2024-fall-ewha-capston-design-project/blob/main/%ED%8C%8C%EB%B8%8C%EB%A5%B4_%EC%A1%B8%ED%94%84_%EC%9D%B4%EB%AF%B8%EC%A7%80_%ED%94%84%EB%A1%9C%EC%84%B8%EC%8B%B1%2C_%EC%9D%B4%EB%AF%B8%EC%A7%80_%EB%B6%84%EC%84%9D_%EA%B8%B0%EC%88%A0_%EA%B2%80%EC%A6%9D.ipynb\" target=\"_parent\"><img src=\"https://colab.research.google.com/assets/colab-badge.svg\" alt=\"Open In Colab\"/></a>"
      ]
    },
    {
      "cell_type": "markdown",
      "source": [
        "### Setup"
      ],
      "metadata": {
        "id": "OLzSuKfpVBln"
      }
    },
    {
      "cell_type": "code",
      "execution_count": null,
      "metadata": {
        "colab": {
          "base_uri": "https://localhost:8080/"
        },
        "id": "3_MX7gfxU1AH",
        "outputId": "cc7e4b49-9156-44b3-8d9d-cd5ca67f842e"
      },
      "outputs": [
        {
          "output_type": "stream",
          "name": "stdout",
          "text": [
            "\u001b[?25l   \u001b[90m━━━━━━━━━━━━━━━━━━━━━━━━━━━━━━━━━━━━━━━━\u001b[0m \u001b[32m0.0/389.9 kB\u001b[0m \u001b[31m?\u001b[0m eta \u001b[36m-:--:--\u001b[0m\r\u001b[2K   \u001b[90m━━━━━━━━━━━━━━━━━━━━━━━━━━━━━━━━━━━━━━━━\u001b[0m \u001b[32m389.9/389.9 kB\u001b[0m \u001b[31m11.9 MB/s\u001b[0m eta \u001b[36m0:00:00\u001b[0m\n",
            "\u001b[?25h"
          ]
        }
      ],
      "source": [
        "%pip install --upgrade openai --quiet"
      ]
    },
    {
      "cell_type": "code",
      "source": [
        "import json\n"
      ],
      "metadata": {
        "id": "kcDSL5vhVOXX"
      },
      "execution_count": null,
      "outputs": []
    },
    {
      "cell_type": "code",
      "source": [
        "from openai import OpenAI\n",
        "import os\n",
        "\n",
        "## Set the API key and model name\n",
        "MODEL=\"gpt-4o\"\n",
        "\n",
        "from google.colab import userdata\n",
        "\n",
        "client = OpenAI(api_key=userdata.get('openai'))"
      ],
      "metadata": {
        "id": "Q9OjUUH5VD7h"
      },
      "execution_count": null,
      "outputs": []
    },
    {
      "cell_type": "code",
      "source": [
        "completion = client.chat.completions.create(\n",
        "  model=MODEL,\n",
        "  messages=[\n",
        "    {\"role\": \"system\", \"content\": \"You are a helpful assistant. Help me analyze the nutrition data of a photo of my meal\"}, # <-- This is the system message that provides context to the model\n",
        "    {\"role\": \"user\", \"content\": \"Hello! Could you analyze the nutrition data of my meal?\"}  # <-- This is the user message for which the model will generate a response\n",
        "  ]\n",
        ")\n",
        "\n",
        "print(\"Assistant: \" + completion.choices[0].message.content)"
      ],
      "metadata": {
        "colab": {
          "base_uri": "https://localhost:8080/"
        },
        "id": "rst2OduzVVbz",
        "outputId": "cf28cb57-87fc-4ea5-cff3-d66f66ca7ae7"
      },
      "execution_count": null,
      "outputs": [
        {
          "output_type": "stream",
          "name": "stdout",
          "text": [
            "Assistant: Of course! I'd be happy to help. However, I can't see photos or images, so I'll need you to describe the meal to me. Please include details such as the type of dish, the main ingredients, and any notable preparation methods or portion sizes. This way, I can provide you with an estimation of the nutritional content.\n"
          ]
        }
      ]
    },
    {
      "cell_type": "markdown",
      "source": [
        "### JSON Mode - for function calling"
      ],
      "metadata": {
        "id": "TJR_uPEZXT1n"
      }
    },
    {
      "cell_type": "code",
      "source": [
        "\n",
        "completion = client.chat.completions.create(\n",
        "  model=MODEL,\n",
        "  response_format={\"type\": \"json_object\"},\n",
        "  messages=[\n",
        "    {\"role\": \"system\", \"content\": \"You are a trainer who always respond in JSON\"},\n",
        "    {\"role\": \"user\", \"content\": \"Create a weekly workout routine for me\"}\n",
        "  ]\n",
        ")\n",
        "\n",
        "print(completion.choices[0].message)"
      ],
      "metadata": {
        "colab": {
          "base_uri": "https://localhost:8080/"
        },
        "id": "Xnt7PgN0XTLy",
        "outputId": "885d86ae-a0a4-446b-a2df-037a0d7dd423"
      },
      "execution_count": null,
      "outputs": [
        {
          "output_type": "stream",
          "name": "stdout",
          "text": [
            "ChatCompletionMessage(content='{\\n  \"weekly_workout_routine\": {\\n    \"Monday\": {\\n      \"workout\": \"Full Body Strength Training\",\\n      \"exercises\": [\\n        {\"exercise\": \"Squats\", \"sets\": 4, \"reps\": 12},\\n        {\"exercise\": \"Bench Press\", \"sets\": 4, \"reps\": 10},\\n        {\"exercise\": \"Bent Over Rows\", \"sets\": 4, \"reps\": 12},\\n        {\"exercise\": \"Deadlifts\", \"sets\": 4, \"reps\": 10},\\n        {\"exercise\": \"Plank\", \"sets\": 3, \"duration\": \"1 minute\"}\\n      ]\\n    },\\n    \"Tuesday\": {\\n      \"workout\": \"Cardio and Core\",\\n      \"exercises\": [\\n        {\"exercise\": \"Running\", \"duration\": \"30 minutes\"},\\n        {\"exercise\": \"Bicycle Crunches\", \"sets\": 4, \"reps\": 20},\\n        {\"exercise\": \"Russian Twists\", \"sets\": 4, \"reps\": 30},\\n        {\"exercise\": \"Leg Raises\", \"sets\": 4, \"reps\": 15}\\n      ]\\n    },\\n    \"Wednesday\": {\\n      \"workout\": \"Upper Body Strength\",\\n      \"exercises\": [\\n        {\"exercise\": \"Pull-Ups\", \"sets\": 4, \"reps\": 8},\\n        {\"exercise\": \"Dumbbell Shoulder Press\", \"sets\": 4, \"reps\": 12},\\n        {\"exercise\": \"Bicep Curls\", \"sets\": 4, \"reps\": 15},\\n        {\"exercise\": \"Tricep Dips\", \"sets\": 4, \"reps\": 12},\\n        {\"exercise\": \"Face Pulls\", \"sets\": 4, \"reps\": 15}\\n      ]\\n    },\\n    \"Thursday\": {\\n      \"workout\": \"Active Recovery\",\\n      \"exercises\": [\\n        {\"exercise\": \"Yoga\", \"duration\": \"45 minutes\"},\\n        {\"exercise\": \"Foam Rolling\", \"duration\": \"15 minutes\"},\\n        {\"exercise\": \"Light Jogging\", \"duration\": \"20 minutes\"}\\n      ]\\n    },\\n    \"Friday\": {\\n      \"workout\": \"Lower Body Strength\",\\n      \"exercises\": [\\n        {\"exercise\": \"Deadlifts\", \"sets\": 4, \"reps\": 10},\\n        {\"exercise\": \"Leg Press\", \"sets\": 4, \"reps\": 12},\\n        {\"exercise\": \"Lunges\", \"sets\": 4, \"reps\": 15},\\n        {\"exercise\": \"Calf Raises\", \"sets\": 4, \"reps\": 20},\\n        {\"exercise\": \"Glute Bridges\", \"sets\": 4, \"reps\": 15}\\n      ]\\n    },\\n    \"Saturday\": {\\n      \"workout\": \"High-Intensity Interval Training (HIIT)\",\\n      \"exercises\": [\\n        {\"exercise\": \"Burpees\", \"sets\": 4, \"duration\": \"1 minute\"},\\n        {\"exercise\": \"Mountain Climbers\", \"sets\": 4, \"duration\": \"1 minute\"},\\n        {\"exercise\": \"Jump Squats\", \"sets\": 4, \"duration\": \"1 minute\"},\\n        {\"exercise\": \"High Knees\", \"sets\": 4, \"duration\": \"1 minute\"},\\n        {\"exercise\": \"Push-Ups\", \"sets\": 4, \"duration\": \"1 minute\"}\\n      ]\\n    },\\n    \"Sunday\": {\\n      \"workout\": \"Rest Day\",\\n      \"activities\": [\\n        {\"activity\": \"Walking\", \"duration\": \"30 minutes\"},\\n        {\"activity\": \"Stretching\", \"duration\": \"20 minutes\"}\\n      ]\\n    }\\n  }\\n}', role='assistant', function_call=None, tool_calls=None)\n"
          ]
        }
      ]
    },
    {
      "cell_type": "code",
      "source": [
        "json.loads(completion.choices[0].message.content)"
      ],
      "metadata": {
        "colab": {
          "base_uri": "https://localhost:8080/"
        },
        "id": "9geMbopvW07H",
        "outputId": "f316822c-d2bc-4233-a9a3-8409162965c9"
      },
      "execution_count": null,
      "outputs": [
        {
          "output_type": "execute_result",
          "data": {
            "text/plain": [
              "{'weekly_workout_routine': {'Monday': {'workout': 'Full Body Strength Training',\n",
              "   'exercises': [{'exercise': 'Squats', 'sets': 4, 'reps': 12},\n",
              "    {'exercise': 'Bench Press', 'sets': 4, 'reps': 10},\n",
              "    {'exercise': 'Bent Over Rows', 'sets': 4, 'reps': 12},\n",
              "    {'exercise': 'Deadlifts', 'sets': 4, 'reps': 10},\n",
              "    {'exercise': 'Plank', 'sets': 3, 'duration': '1 minute'}]},\n",
              "  'Tuesday': {'workout': 'Cardio and Core',\n",
              "   'exercises': [{'exercise': 'Running', 'duration': '30 minutes'},\n",
              "    {'exercise': 'Bicycle Crunches', 'sets': 4, 'reps': 20},\n",
              "    {'exercise': 'Russian Twists', 'sets': 4, 'reps': 30},\n",
              "    {'exercise': 'Leg Raises', 'sets': 4, 'reps': 15}]},\n",
              "  'Wednesday': {'workout': 'Upper Body Strength',\n",
              "   'exercises': [{'exercise': 'Pull-Ups', 'sets': 4, 'reps': 8},\n",
              "    {'exercise': 'Dumbbell Shoulder Press', 'sets': 4, 'reps': 12},\n",
              "    {'exercise': 'Bicep Curls', 'sets': 4, 'reps': 15},\n",
              "    {'exercise': 'Tricep Dips', 'sets': 4, 'reps': 12},\n",
              "    {'exercise': 'Face Pulls', 'sets': 4, 'reps': 15}]},\n",
              "  'Thursday': {'workout': 'Active Recovery',\n",
              "   'exercises': [{'exercise': 'Yoga', 'duration': '45 minutes'},\n",
              "    {'exercise': 'Foam Rolling', 'duration': '15 minutes'},\n",
              "    {'exercise': 'Light Jogging', 'duration': '20 minutes'}]},\n",
              "  'Friday': {'workout': 'Lower Body Strength',\n",
              "   'exercises': [{'exercise': 'Deadlifts', 'sets': 4, 'reps': 10},\n",
              "    {'exercise': 'Leg Press', 'sets': 4, 'reps': 12},\n",
              "    {'exercise': 'Lunges', 'sets': 4, 'reps': 15},\n",
              "    {'exercise': 'Calf Raises', 'sets': 4, 'reps': 20},\n",
              "    {'exercise': 'Glute Bridges', 'sets': 4, 'reps': 15}]},\n",
              "  'Saturday': {'workout': 'High-Intensity Interval Training (HIIT)',\n",
              "   'exercises': [{'exercise': 'Burpees', 'sets': 4, 'duration': '1 minute'},\n",
              "    {'exercise': 'Mountain Climbers', 'sets': 4, 'duration': '1 minute'},\n",
              "    {'exercise': 'Jump Squats', 'sets': 4, 'duration': '1 minute'},\n",
              "    {'exercise': 'High Knees', 'sets': 4, 'duration': '1 minute'},\n",
              "    {'exercise': 'Push-Ups', 'sets': 4, 'duration': '1 minute'}]},\n",
              "  'Sunday': {'workout': 'Rest Day',\n",
              "   'activities': [{'activity': 'Walking', 'duration': '30 minutes'},\n",
              "    {'activity': 'Stretching', 'duration': '20 minutes'}]}}}"
            ]
          },
          "metadata": {},
          "execution_count": 15
        }
      ]
    },
    {
      "cell_type": "markdown",
      "source": [
        "### Image Understanding"
      ],
      "metadata": {
        "id": "0y0J7QmSbyh0"
      }
    },
    {
      "cell_type": "code",
      "source": [
        "from IPython.display import Image, display, Audio, Markdown\n",
        "import base64\n",
        "\n",
        "IMAGE_PATH = \"chocolate.jpg\"\n",
        "\n",
        "# Preview image for context\n",
        "display(Image(IMAGE_PATH))"
      ],
      "metadata": {
        "colab": {
          "base_uri": "https://localhost:8080/",
          "height": 586
        },
        "id": "RU-AKH_Zb4gv",
        "outputId": "c8330394-af87-431c-e29a-e0440697452a"
      },
      "execution_count": null,
      "outputs": [
        {
          "output_type": "display_data",
          "data": {
            "image/jpeg": "[encoded data removed]",
            "text/plain": [
              "<IPython.core.display.Image object>"
            ]
          },
          "metadata": {}
        }
      ]
    },
    {
      "cell_type": "markdown",
      "source": [
        "#### Base64 Image Processing"
      ],
      "metadata": {
        "id": "2I_wd8oAcQP7"
      }
    },
    {
      "cell_type": "code",
      "source": [
        "# Open the image file and encode it as a base64 string\n",
        "def encode_image(image_path):\n",
        "    with open(image_path, \"rb\") as image_file:\n",
        "        return base64.b64encode(image_file.read()).decode(\"utf-8\")\n",
        "\n",
        "base64_image = encode_image(IMAGE_PATH)\n",
        "\n",
        "response = client.chat.completions.create(\n",
        "    model=MODEL,\n",
        "    messages=[\n",
        "        {\"role\": \"system\", \"content\": \"You are a helpful assistant that responds in Markdown. Help me analyze the nutrition data of a photo of my meal\"},\n",
        "        {\"role\": \"user\", \"content\": [\n",
        "            {\"type\": \"text\", \"text\": \"Could you analyze the nutrition data of my meal in Korean?\"},\n",
        "            {\"type\": \"image_url\", \"image_url\": {\n",
        "                \"url\": f\"data:image/png;base64,{base64_image}\"}\n",
        "            }\n",
        "        ]}\n",
        "    ],\n",
        "    temperature=0.0,\n",
        ")\n",
        "\n",
        "print(response.choices[0].message.content)"
      ],
      "metadata": {
        "colab": {
          "base_uri": "https://localhost:8080/"
        },
        "id": "PZX4t-_Wb4js",
        "outputId": "a5cd2991-4dca-43b0-c126-0dda7bdeb9d3"
      },
      "execution_count": null,
      "outputs": [
        {
          "output_type": "stream",
          "name": "stdout",
          "text": [
            "이 사진은 소프트 아이스크림입니다. 일반적인 소프트 아이스크림의 영양 정보를 제공해드릴게요.\n",
            "\n",
            "### 소프트 아이스크림 (약 100g 기준)\n",
            "- **칼로리**: 약 200-250 kcal\n",
            "- **탄수화물**: 약 20-30g\n",
            "- **당류**: 약 15-20g\n",
            "- **단백질**: 약 3-5g\n",
            "- **지방**: 약 10-15g\n",
            "- **포화지방**: 약 6-10g\n",
            "- **콜레스테롤**: 약 20-30mg\n",
            "- **나트륨**: 약 50-100mg\n",
            "\n",
            "이 수치는 대략적인 값이며, 브랜드나 제조 방법에 따라 다를 수 있습니다. 아이스크림은 당과 지방 함량이 높으니 적당히 섭취하는 것이 좋습니다.\n"
          ]
        }
      ]
    },
    {
      "cell_type": "code",
      "source": [
        "def encode_image(image_path):\n",
        "    with open(image_path, \"rb\") as image_file:\n",
        "        return base64.b64encode(image_file.read()).decode(\"utf-8\")\n",
        "\n",
        "base64_image = encode_image(IMAGE_PATH)\n",
        "\n",
        "response = client.chat.completions.create(\n",
        "    model=MODEL,\n",
        "    messages=[\n",
        "        {\"role\": \"system\", \"content\": \"You are a helpful assistant that responds in Markdown. Help me analyze the nutrition data of a photo of my meal\"},\n",
        "        {\"role\": \"user\", \"content\": [\n",
        "            {\"type\": \"text\", \"text\": \"이 음식 사진에서 부족한 영양성분을 보충할 수 있는 메뉴 명을 출력해줘\"},\n",
        "            {\"type\": \"image_url\", \"image_url\": {\n",
        "                \"url\": f\"data:image/png;base64,{base64_image}\"}\n",
        "            }\n",
        "        ]}\n",
        "    ],\n",
        "    temperature=0.0,\n",
        ")\n",
        "\n",
        "print(response.choices[0].message.content)"
      ],
      "metadata": {
        "colab": {
          "base_uri": "https://localhost:8080/"
        },
        "id": "1YjU73TlZ9MS",
        "outputId": "3411d873-d8b5-4ed3-82cb-9935a1e1942e"
      },
      "execution_count": null,
      "outputs": [
        {
          "output_type": "stream",
          "name": "stdout",
          "text": [
            "이 도넛은 주로 탄수화물과 당분이 많고, 단백질, 식이섬유, 비타민, 미네랄이 부족할 수 있습니다. 이를 보충하기 위해 다음과 같은 메뉴를 고려해보세요:\n",
            "\n",
            "1. **그릭 요거트와 견과류**: 단백질과 건강한 지방을 보충할 수 있습니다.\n",
            "2. **신선한 과일 샐러드**: 비타민과 식이섬유를 추가할 수 있습니다.\n",
            "3. **삶은 달걀**: 단백질과 비타민 D를 보충할 수 있습니다.\n",
            "4. **채소 스무디**: 다양한 비타민과 미네랄을 섭취할 수 있습니다.\n",
            "\n",
            "이 메뉴들을 추가하면 영양 균형을 맞추는 데 도움이 될 것입니다.\n"
          ]
        }
      ]
    },
    {
      "cell_type": "markdown",
      "source": [
        "  \n",
        "    \n",
        "      \n",
        "        \n",
        "          \n",
        "            \n",
        "            여기까지 플젝 관련!!!!!!!\n",
        "            "
      ],
      "metadata": {
        "id": "1ixwGcwXaa5t"
      }
    },
    {
      "cell_type": "markdown",
      "source": [
        "#### URL Image Processing"
      ],
      "metadata": {
        "id": "gb1YPolScodS"
      }
    },
    {
      "cell_type": "code",
      "source": [
        "response = client.chat.completions.create(\n",
        "    model=MODEL,\n",
        "    messages=[\n",
        "        {\"role\": \"system\", \"content\": \"You are a helpful assistant that responds in Markdown. Help me with my math homework!\"},\n",
        "        {\"role\": \"user\", \"content\": [\n",
        "            {\"type\": \"text\", \"text\": \"What's the area of the triangle?\"},\n",
        "            {\"type\": \"image_url\", \"image_url\": {\n",
        "                \"url\": \"https://upload.wikimedia.org/wikipedia/commons/e/e2/The_Algebra_of_Mohammed_Ben_Musa_-_page_82b.png\"}\n",
        "            }\n",
        "        ]}\n",
        "    ],\n",
        "    temperature=0.0,\n",
        ")\n",
        "\n",
        "print(response.choices[0].message.content)"
      ],
      "metadata": {
        "colab": {
          "base_uri": "https://localhost:8080/"
        },
        "id": "JaZepPAlb4qA",
        "outputId": "e07cae67-1c37-4aed-f038-fa1c4b6fff10"
      },
      "execution_count": null,
      "outputs": [
        {
          "output_type": "stream",
          "name": "stdout",
          "text": [
            "To find the area of the triangle, we can use Heron's formula. First, we need to find the semi-perimeter of the triangle.\n",
            "\n",
            "The sides of the triangle are 6, 5, and 9.\n",
            "\n",
            "1. Calculate the semi-perimeter \\( s \\):\n",
            "\\[ s = \\frac{a + b + c}{2} = \\frac{6 + 5 + 9}{2} = 10 \\]\n",
            "\n",
            "2. Use Heron's formula to find the area \\( A \\):\n",
            "\\[ A = \\sqrt{s(s-a)(s-b)(s-c)} \\]\n",
            "\\[ A = \\sqrt{10(10-6)(10-5)(10-9)} \\]\n",
            "\\[ A = \\sqrt{10 \\cdot 4 \\cdot 5 \\cdot 1} \\]\n",
            "\\[ A = \\sqrt{200} \\]\n",
            "\\[ A = 10\\sqrt{2} \\]\n",
            "\n",
            "So, the area of the triangle is \\( 10\\sqrt{2} \\) square units.\n"
          ]
        }
      ]
    },
    {
      "cell_type": "code",
      "source": [
        "response = client.chat.completions.create(\n",
        "    model=MODEL,\n",
        "    messages=[\n",
        "        {\"role\": \"system\", \"content\": \"You are a helpful assistant that responds in Markdown\"},\n",
        "        {\"role\": \"user\", \"content\": [\n",
        "            {\"type\": \"text\", \"text\": \"Can you explain what you see in this image?\"},\n",
        "            {\"type\": \"image_url\", \"image_url\": {\n",
        "                \"url\": \"https://images.ctfassets.net/kftzwdyauwt9/3Y5UXKbx1ZIQYF4dg585eH/1a6da79d0ab3b8d3a2fd23aae1f21075/gpt-40-01_dark.png\"}\n",
        "            }\n",
        "        ]}\n",
        "    ],\n",
        "    temperature=0.0,\n",
        ")\n",
        "\n",
        "print(response.choices[0].message.content)"
      ],
      "metadata": {
        "colab": {
          "base_uri": "https://localhost:8080/"
        },
        "id": "VzLP0BPvb4tC",
        "outputId": "e99b7f6a-ebfc-4f85-8252-ae1416cb2783"
      },
      "execution_count": null,
      "outputs": [
        {
          "output_type": "stream",
          "name": "stdout",
          "text": [
            "This image is a bar chart titled \"Text Evaluation\" that compares the performance of various models across different evaluation metrics. The models compared are:\n",
            "\n",
            "- GPT-4o (pink)\n",
            "- GPT-4T (orange)\n",
            "- GPT-4 (initial release 23-03-14) (yellow)\n",
            "- Claude 3 Opus (green)\n",
            "- Gemini Pro 1.5 (light green)\n",
            "- Gemini Ultra 1.0 (blue)\n",
            "- Llama3 400b (purple)\n",
            "\n",
            "The evaluation metrics are:\n",
            "\n",
            "1. MMLU (%)\n",
            "2. GPOQA (%)\n",
            "3. MATH (%)\n",
            "4. HumanEval (%)\n",
            "5. MGSM (%)\n",
            "6. DROP (f1)\n",
            "\n",
            "Each metric has a corresponding set of bars representing the performance of each model. Here are some observations:\n",
            "\n",
            "- **MMLU (%):** GPT-4o has the highest score (88.7%), followed closely by GPT-4T (86.8%) and GPT-4 (initial release) (86.8%).\n",
            "- **GPOQA (%):** GPT-4o leads with 53.6%, followed by GPT-4T (50.4%). Gemini Ultra 1.0 and Llama3 400b have no data (N/A).\n",
            "- **MATH (%):** GPT-4o has the highest score (76.6%), followed by GPT-4T (72.6%).\n",
            "- **HumanEval (%):** GPT-4o leads with 90.2%, followed by GPT-4T (84.9%).\n",
            "- **MGSM (%):** GPT-4o has the highest score (90.5%), followed by GPT-4T (88.7%).\n",
            "- **DROP (f1):** GPT-4o leads with 86.0%, followed by GPT-4T (83.4%).\n",
            "\n",
            "The chart provides a clear visual comparison of the performance of these models across different text evaluation metrics.\n"
          ]
        }
      ]
    },
    {
      "cell_type": "code",
      "source": [
        "response = client.chat.completions.create(\n",
        "    model=MODEL,\n",
        "    messages=[\n",
        "        {\"role\": \"system\", \"content\": \"You are a helpful assistant that responds in Markdown\"},\n",
        "        {\"role\": \"user\", \"content\": [\n",
        "            {\"type\": \"text\", \"text\": \"What do you see in this image? How would you describe the emotion shown?\"},\n",
        "            {\"type\": \"image_url\", \"image_url\": {\n",
        "                \"url\": \"https://pbs.twimg.com/media/GNeb4-Ua8AAuaKp?format=png&name=small\"}\n",
        "            }\n",
        "        ]}\n",
        "    ],\n",
        "    temperature=0.0,\n",
        ")\n",
        "\n",
        "# print(response.choices[0].message.content)"
      ],
      "metadata": {
        "colab": {
          "base_uri": "https://localhost:8080/"
        },
        "id": "rNVhcvJxb45i",
        "outputId": "e78c3c41-5586-4f6a-d8ff-bd3d07229b31"
      },
      "execution_count": null,
      "outputs": [
        {
          "output_type": "stream",
          "name": "stdout",
          "text": [
            "The image shows a man with a beard, wearing a green shirt, and smiling. The background appears to be indoors, possibly in a room with warm lighting. The emotion shown in the image can be described as happy or content, as indicated by the man's smile.\n"
          ]
        }
      ]
    },
    {
      "cell_type": "code",
      "source": [
        "response.choices[0].message.content"
      ],
      "metadata": {
        "colab": {
          "base_uri": "https://localhost:8080/",
          "height": 53
        },
        "id": "exC-YUXbfmmB",
        "outputId": "4a49e065-bdd6-4ba7-fc05-15a171398ace"
      },
      "execution_count": null,
      "outputs": [
        {
          "output_type": "execute_result",
          "data": {
            "text/plain": [
              "\"The image shows a man with a beard, wearing a green shirt, and smiling. The background appears to be indoors, possibly in a room with warm lighting. The emotion shown in the image can be described as happy or content, as indicated by the man's smile.\""
            ],
            "application/vnd.google.colaboratory.intrinsic+json": {
              "type": "string"
            }
          },
          "metadata": {},
          "execution_count": 31
        }
      ]
    },
    {
      "cell_type": "code",
      "source": [],
      "metadata": {
        "id": "fGRghAwGpQXx"
      },
      "execution_count": null,
      "outputs": []
    },
    {
      "cell_type": "markdown",
      "source": [
        "### Function Calling"
      ],
      "metadata": {
        "id": "gK5A8g10ZSit"
      }
    },
    {
      "cell_type": "code",
      "source": [
        "import openai\n",
        "import json\n",
        "\n",
        "# Mock function to get NBA game scores\n",
        "def get_nba_game_score(team):\n",
        "    print('get_nba_game_score called')\n",
        "    \"\"\"Get the current score of an NBA game for a given team\"\"\"\n",
        "    if \"lakers\" in team.lower():\n",
        "        return json.dumps({\"team\": \"Lakers\", \"score\": \"102\", \"opponent\": \"Warriors\", \"opponent_score\": \"98\"})\n",
        "    elif \"bulls\" in team.lower():\n",
        "        return json.dumps({\"team\": \"Bulls\", \"score\": \"89\", \"opponent\": \"Celtics\", \"opponent_score\": \"95\"})\n",
        "    else:\n",
        "        return json.dumps({\"team\": team, \"score\": \"N/A\", \"opponent\": \"N/A\", \"opponent_score\": \"N/A\"})"
      ],
      "metadata": {
        "id": "LzHSYu2qhChU"
      },
      "execution_count": null,
      "outputs": []
    },
    {
      "cell_type": "code",
      "source": [
        "\n",
        "\n",
        "def funcation_calling():\n",
        "    # Step 1: Initialize conversation with the user's message\n",
        "    messages = [{\"role\": \"user\", \"content\": \"What's the score of the Lakers game?\"}]\n",
        "\n",
        "    # Define available tools (functions) the model can use\n",
        "    tools = [\n",
        "        {\n",
        "            \"type\": \"function\",\n",
        "            \"function\": {\n",
        "                \"name\": \"get_nba_game_score\",\n",
        "                \"description\": \"Get the current score of an NBA game for a given team\",\n",
        "                \"parameters\": {\n",
        "                    \"type\": \"object\",\n",
        "                    \"properties\": {\n",
        "                        \"team\": {\n",
        "                            \"type\": \"string\",\n",
        "                            \"description\": \"The name of the NBA team, e.g. Lakers, Bulls\",\n",
        "                        },\n",
        "                    },\n",
        "                    \"required\": [\"team\"],\n",
        "                },\n",
        "            },\n",
        "        }\n",
        "    ]\n",
        "\n",
        "    # Step 2: Send the conversation context and available tools to the model\n",
        "    response = client.chat.completions.create(\n",
        "        model=MODEL,\n",
        "        messages=messages,\n",
        "        tools=tools,\n",
        "        tool_choice=\"auto\",  # auto is default, but we'll be explicit\n",
        "    )\n",
        "\n",
        "    # Extract the response from the model\n",
        "    response_message = response.choices[0].message\n",
        "    tool_calls = response_message.tool_calls  # Check if the model wants to call any tools\n",
        "\n",
        "    # Step 3: Check if there are any tool calls requested by the model\n",
        "    if tool_calls:\n",
        "        # Define available functions\n",
        "        available_functions = {\n",
        "            \"get_nba_game_score\": get_nba_game_score,\n",
        "        }  # Only one function in this example, but can be extended\n",
        "\n",
        "        # Add the model's response to the conversation history\n",
        "        messages.append(response_message)\n",
        "\n",
        "        # Step 4: Call the function requested by the model\n",
        "        for tool_call in tool_calls:\n",
        "            function_name = tool_call.function.name\n",
        "            function_to_call = available_functions[function_name]\n",
        "            function_args = json.loads(tool_call.function.arguments)\n",
        "\n",
        "            print(f\"Tool call: {tool_call}\")\n",
        "\n",
        "            # Call the function with the extracted arguments\n",
        "            function_response = function_to_call(\n",
        "                team=function_args.get(\"team\"),\n",
        "            )\n",
        "\n",
        "            # Add the function response to the conversation history\n",
        "            messages.append(\n",
        "                {\n",
        "                    \"tool_call_id\": tool_call.id,\n",
        "                    \"role\": \"tool\",\n",
        "                    \"name\": function_name,\n",
        "                    \"content\": function_response,\n",
        "                }\n",
        "            )\n",
        "\n",
        "        # Step 5: Continue the conversation with the updated history\n",
        "        second_response = client.chat.completions.create(\n",
        "            model=MODEL,\n",
        "            messages=messages,\n",
        "        )  # Get a new response from the model where it can see the function response\n",
        "\n",
        "        return second_response\n",
        "\n",
        "# Run the conversation and print the result\n",
        "print(funcation_calling())\n"
      ],
      "metadata": {
        "colab": {
          "base_uri": "https://localhost:8080/"
        },
        "id": "JLXXCQs9hCjv",
        "outputId": "f8749de0-71bd-44c1-e9f5-c25eff5d1c91"
      },
      "execution_count": null,
      "outputs": [
        {
          "output_type": "stream",
          "name": "stdout",
          "text": [
            "Tool call: ChatCompletionMessageToolCall(id='call_feWMdmuXR2eZA9eS3P5mH6M0', function=Function(arguments='{\"team\":\"Lakers\"}', name='get_nba_game_score'), type='function')\n",
            "get_nba_game_score called\n",
            "ChatCompletion(id='chatcmpl-9OenqB69v2nUptcaSTxROWIV4nPk1', choices=[Choice(finish_reason='stop', index=0, logprobs=None, message=ChatCompletionMessage(content='The Lakers won their game with a score of 102 to 98 against the Warriors.', role='assistant', function_call=None, tool_calls=None))], created=1715663746, model='gpt-4o-2024-05-13', object='chat.completion', system_fingerprint='fp_729ea513f7', usage=CompletionUsage(completion_tokens=18, prompt_tokens=73, total_tokens=91))\n"
          ]
        }
      ]
    },
    {
      "cell_type": "code",
      "source": [],
      "metadata": {
        "id": "DC2oC80zheQ-"
      },
      "execution_count": null,
      "outputs": []
    }
  ]
}